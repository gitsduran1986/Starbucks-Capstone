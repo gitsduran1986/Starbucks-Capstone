{
 "cells": [
  {
   "cell_type": "code",
   "execution_count": 67,
   "metadata": {},
   "outputs": [
    {
     "name": "stdout",
     "output_type": "stream",
     "text": [
      "<class 'pandas.core.frame.DataFrame'>\n",
      "RangeIndex: 76277 entries, 0 to 76276\n",
      "Data columns (total 21 columns):\n",
      "level_0                  76277 non-null int64\n",
      "time                     76277 non-null int64\n",
      "difficulty               76277 non-null int64\n",
      "duration                 76277 non-null int64\n",
      "reward                   76277 non-null int64\n",
      "web                      76277 non-null int64\n",
      "email                    76277 non-null int64\n",
      "mobile                   76277 non-null int64\n",
      "social                   76277 non-null int64\n",
      "bogo                     76277 non-null int64\n",
      "discount                 76277 non-null int64\n",
      "informational            76277 non-null int64\n",
      "age                      76277 non-null int64\n",
      "income                   76277 non-null float64\n",
      "member_date_int          76277 non-null int64\n",
      "F                        76277 non-null int64\n",
      "M                        76277 non-null int64\n",
      "O                        76277 non-null int64\n",
      "income_impute_flag       76277 non-null int64\n",
      "offer_viewed             38030 non-null float64\n",
      "spending_during_offer    38030 non-null float64\n",
      "dtypes: float64(3), int64(18)\n",
      "memory usage: 12.2 MB\n"
     ]
    }
   ],
   "source": [
    "import xgboost as xgb\n",
    "from sklearn.metrics import mean_squared_error\n",
    "import pandas as pd\n",
    "import numpy as np\n",
    "\n",
    "offers_recieved = pd.read_csv('offers_recieved.csv')\n",
    "offers_recieved = offers_recieved.drop(['id_x', 'id_y','value','person','offer_id','channels','influence_start',\n",
    "                                       'influence_end','Unnamed: 0','event','offer_type','index'], axis=1)\n",
    "offers_recieved.info()\n",
    "\n",
    "transcript = pd.read_json('data/transcript.json', orient='records', lines=True)\n",
    "transcript.to_csv('t.csv')"
   ]
  },
  {
   "cell_type": "code",
   "execution_count": 59,
   "metadata": {},
   "outputs": [
    {
     "name": "stdout",
     "output_type": "stream",
     "text": [
      "              time   difficulty     duration       reward          web  \\\n",
      "count  8766.000000  8766.000000  8766.000000  8766.000000  8766.000000   \n",
      "mean    170.568104     7.682752     6.582820     4.285535     0.799795   \n",
      "std     137.061264     5.104372     2.176139     3.398807     0.400177   \n",
      "min       0.000000     0.000000     3.000000     0.000000     0.000000   \n",
      "25%       0.000000     5.000000     5.000000     2.000000     1.000000   \n",
      "50%     168.000000    10.000000     7.000000     3.000000     1.000000   \n",
      "75%     336.000000    10.000000     7.000000     5.000000     1.000000   \n",
      "max     336.000000    20.000000    10.000000    10.000000     1.000000   \n",
      "\n",
      "        email       mobile       social         bogo     discount  \\\n",
      "count  8766.0  8766.000000  8766.000000  8766.000000  8766.000000   \n",
      "mean      1.0     0.921059     0.660735     0.407027     0.418093   \n",
      "std       0.0     0.269663     0.473487     0.491308     0.493274   \n",
      "min       1.0     0.000000     0.000000     0.000000     0.000000   \n",
      "25%       1.0     1.000000     0.000000     0.000000     0.000000   \n",
      "50%       1.0     1.000000     1.000000     0.000000     0.000000   \n",
      "75%       1.0     1.000000     1.000000     1.000000     1.000000   \n",
      "max       1.0     1.000000     1.000000     1.000000     1.000000   \n",
      "\n",
      "       informational          age         income  member_date_int  \\\n",
      "count    8766.000000  8766.000000    8766.000000      8766.000000   \n",
      "mean        0.174880    63.270021   65774.086813      1307.901894   \n",
      "std         0.379886    27.111803   19647.282305       410.991883   \n",
      "min         0.000000    18.000000   30000.000000         0.000000   \n",
      "25%         0.000000    45.000000   53000.000000      1026.000000   \n",
      "50%         0.000000    59.000000   65405.000000      1467.000000   \n",
      "75%         0.000000    74.000000   76000.000000      1620.000000   \n",
      "max         1.000000   118.000000  120000.000000      1823.000000   \n",
      "\n",
      "                 F            M            O  income_impute_flag  \\\n",
      "count  8766.000000  8766.000000  8766.000000         8766.000000   \n",
      "mean      0.359343     0.488592     0.014146            0.137919   \n",
      "std       0.479835     0.499898     0.118098            0.344835   \n",
      "min       0.000000     0.000000     0.000000            0.000000   \n",
      "25%       0.000000     0.000000     0.000000            0.000000   \n",
      "50%       0.000000     0.000000     0.000000            0.000000   \n",
      "75%       1.000000     1.000000     0.000000            0.000000   \n",
      "max       1.000000     1.000000     1.000000            1.000000   \n",
      "\n",
      "       spending_during_offer  \n",
      "count            8766.000000  \n",
      "mean                2.459519  \n",
      "std                 9.931782  \n",
      "min                 0.000000  \n",
      "25%                 0.000000  \n",
      "50%                 0.000000  \n",
      "75%                 0.000000  \n",
      "max               510.520000  \n",
      "    time  difficulty  duration  reward  web  email  mobile  social  bogo  \\\n",
      "0      0           5         7       5    1      1       1       0     1   \n",
      "1      0          20        10       5    1      1       0       0     0   \n",
      "5      0           5         5       5    1      1       1       1     1   \n",
      "22     0          10         5      10    1      1       1       1     1   \n",
      "27     0          10         7      10    0      1       1       1     1   \n",
      "\n",
      "    discount  informational  age  income  member_date_int  F  M  O  \\\n",
      "0          0              0   75  100000             1380  1  0  0   \n",
      "1          1              0  118   65405             1467  0  0  0   \n",
      "5          0              0   65   53000             1656  0  1  0   \n",
      "22         0              0   69   57000             1112  1  0  0   \n",
      "27         0              0   20   30000             1078  1  0  0   \n",
      "\n",
      "    income_impute_flag  spending_during_offer  \n",
      "0                    0                   0.00  \n",
      "1                    1                   0.00  \n",
      "5                    0                   0.00  \n",
      "22                   0                   0.00  \n",
      "27                   0                   2.27  \n"
     ]
    }
   ],
   "source": [
    "offers_recieved = offers_recieved[offers_recieved.offer_viewed.notnull()]\n",
    "offers_recieved = offers_recieved[offers_recieved.spending_during_offer.notnull()]\n",
    "offers_recieved = offers_recieved[offers_recieved.offer_viewed != 0]\n",
    "offers_recieved = offers_recieved.drop(['offer_viewed'],axis=1)\n",
    "print(offers_recieved.describe())\n",
    "print(offers_recieved.head())"
   ]
  },
  {
   "cell_type": "code",
   "execution_count": 63,
   "metadata": {},
   "outputs": [
    {
     "name": "stdout",
     "output_type": "stream",
     "text": [
      "[13:14:55] WARNING: C:/Users/Administrator/workspace/xgboost-win64_release_1.1.0/src/objective/regression_obj.cu:168: reg:linear is now deprecated in favor of reg:squarederror.\n",
      "[13:14:55] WARNING: C:/Users/Administrator/workspace/xgboost-win64_release_1.1.0/src/objective/regression_obj.cu:168: reg:linear is now deprecated in favor of reg:squarederror.\n",
      "RMSE: 0.734278\n"
     ]
    }
   ],
   "source": [
    "X, y = offers_recieved.iloc[:,:-1],offers_recieved.iloc[:,-1]\n",
    "data_dmatrix = xgb.DMatrix(data=X,label=y)\n",
    "\n",
    "from sklearn.model_selection import train_test_split\n",
    "\n",
    "X_train, X_test, y_train, y_test = train_test_split(X, y, test_size=0.2)\n",
    "\n",
    "#proof of concept\n",
    "xg_reg = xgb.XGBRegressor(objective ='reg:linear', colsample_bytree = 0.3, learning_rate = 0.1,\n",
    "                max_depth = 5, alpha = 10, n_estimators = 200)\n",
    "\n",
    "xg_reg.fit(X_train,y_train)\n",
    "\n",
    "preds = xg_reg.predict(X_test)\n",
    "\n",
    "rmse = np.sqrt(mean_squared_error(y_test, preds))\n",
    "print(\"RMSE: %f\" % (rmse))"
   ]
  },
  {
   "cell_type": "code",
   "execution_count": 65,
   "metadata": {},
   "outputs": [],
   "source": [
    "preds = xg_reg.predict(X)\n",
    "\n",
    "visual = offers_recieved\n",
    "visual['preds'] = preds\n",
    "visual.to_csv('visual.csv')"
   ]
  }
 ],
 "metadata": {
  "kernelspec": {
   "display_name": "Python 3",
   "language": "python",
   "name": "python3"
  },
  "language_info": {
   "codemirror_mode": {
    "name": "ipython",
    "version": 3
   },
   "file_extension": ".py",
   "mimetype": "text/x-python",
   "name": "python",
   "nbconvert_exporter": "python",
   "pygments_lexer": "ipython3",
   "version": "3.7.1"
  }
 },
 "nbformat": 4,
 "nbformat_minor": 2
}
