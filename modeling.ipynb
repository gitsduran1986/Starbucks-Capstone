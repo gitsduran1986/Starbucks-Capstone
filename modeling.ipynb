{
 "cells": [
  {
   "cell_type": "code",
   "execution_count": 89,
   "metadata": {},
   "outputs": [
    {
     "name": "stdout",
     "output_type": "stream",
     "text": [
      "<class 'pandas.core.frame.DataFrame'>\n",
      "RangeIndex: 17189 entries, 0 to 17188\n",
      "Data columns (total 19 columns):\n",
      "Unnamed: 0         17189 non-null int64\n",
      "offer_type         17189 non-null object\n",
      "time               17189 non-null int64\n",
      "difficulty         17189 non-null int64\n",
      "duration           17189 non-null int64\n",
      "reward             17189 non-null int64\n",
      "web                17189 non-null int64\n",
      "email              17189 non-null int64\n",
      "mobile             17189 non-null int64\n",
      "social             17189 non-null int64\n",
      "bogo               17189 non-null int64\n",
      "discount           17189 non-null int64\n",
      "informational      17189 non-null int64\n",
      "age                17189 non-null int64\n",
      "income             17189 non-null float64\n",
      "member_date_int    17189 non-null int64\n",
      "F                  17189 non-null int64\n",
      "M                  17189 non-null int64\n",
      "offer_impact       17189 non-null float64\n",
      "dtypes: float64(2), int64(16), object(1)\n",
      "memory usage: 2.5+ MB\n"
     ]
    }
   ],
   "source": [
    "import xgboost as xgb\n",
    "from sklearn.metrics import mean_squared_error\n",
    "import pandas as pd\n",
    "import numpy as np\n",
    "\n",
    "offers_recieved = pd.read_csv('for_model.csv')\n",
    "#offers_recieved = offers_recieved.drop(['id_x', 'id_y','value','person','offer_id','channels','influence_start',\n",
    "#                                       'influence_end','Unnamed: 0','event','offer_type','index'], axis=1)\n",
    "offers_recieved.info()\n",
    "\n",
    "transcript = pd.read_json('data/transcript.json', orient='records', lines=True)\n"
   ]
  },
  {
   "cell_type": "code",
   "execution_count": 90,
   "metadata": {},
   "outputs": [
    {
     "name": "stdout",
     "output_type": "stream",
     "text": [
      "         Unnamed: 0          time    difficulty      duration        reward  \\\n",
      "count  17189.000000  17189.000000  17189.000000  17189.000000  17189.000000   \n",
      "mean   38318.052243    334.436209      7.708651      6.778114      4.523474   \n",
      "std    21914.941331    195.303471      3.871713      2.060603      3.412746   \n",
      "min        0.000000      0.000000      0.000000      3.000000      0.000000   \n",
      "25%    19311.000000    168.000000      5.000000      5.000000      2.000000   \n",
      "50%    38472.000000    408.000000     10.000000      7.000000      3.000000   \n",
      "75%    57272.000000    504.000000     10.000000      7.000000      5.000000   \n",
      "max    76271.000000    576.000000     20.000000     10.000000     10.000000   \n",
      "\n",
      "                web    email        mobile        social          bogo  \\\n",
      "count  17189.000000  17189.0  17189.000000  17189.000000  17189.000000   \n",
      "mean       0.794462      1.0      0.971493      0.792018      0.422247   \n",
      "std        0.404106      0.0      0.166420      0.405876      0.493932   \n",
      "min        0.000000      1.0      0.000000      0.000000      0.000000   \n",
      "25%        1.000000      1.0      1.000000      1.000000      0.000000   \n",
      "50%        1.000000      1.0      1.000000      1.000000      0.000000   \n",
      "75%        1.000000      1.0      1.000000      1.000000      1.000000   \n",
      "max        1.000000      1.0      1.000000      1.000000      1.000000   \n",
      "\n",
      "           discount  informational           age         income  \\\n",
      "count  17189.000000   17189.000000  17189.000000   17189.000000   \n",
      "mean       0.465472       0.112281     64.129618   65950.473559   \n",
      "std        0.498821       0.315721     27.182092   18590.220528   \n",
      "min        0.000000       0.000000     18.000000   30000.000000   \n",
      "25%        0.000000       0.000000     46.000000   54000.000000   \n",
      "50%        0.000000       0.000000     59.000000   65405.000000   \n",
      "75%        1.000000       0.000000     75.000000   76000.000000   \n",
      "max        1.000000       1.000000    118.000000  120000.000000   \n",
      "\n",
      "       member_date_int             F             M  offer_impact  \n",
      "count     17189.000000  17189.000000  17189.000000  17189.000000  \n",
      "mean       1302.461574      0.358369      0.480889      0.250461  \n",
      "std         403.079945      0.479535      0.499649      2.312750  \n",
      "min           1.000000      0.000000      0.000000     -2.308020  \n",
      "25%        1025.000000      0.000000      0.000000     -0.195290  \n",
      "50%        1458.000000      0.000000      0.000000     -0.068288  \n",
      "75%        1608.000000      1.000000      1.000000     -0.012732  \n",
      "max        1823.000000      1.000000      1.000000    183.875478  \n",
      "   Unnamed: 0 offer_type  time  difficulty  duration  reward  web  email  \\\n",
      "0           0       bogo     0           5         7       5    1      1   \n",
      "1           1   discount     0          20        10       5    1      1   \n",
      "2           5       bogo     0           5         5       5    1      1   \n",
      "3          22       bogo     0          10         5      10    1      1   \n",
      "4          27       bogo     0          10         7      10    0      1   \n",
      "\n",
      "   mobile  social  bogo  discount  informational  age    income  \\\n",
      "0       1       0     1         0              0   75  100000.0   \n",
      "1       0       0     0         1              0  118   65405.0   \n",
      "2       1       1     1         0              0   65   53000.0   \n",
      "3       1       1     1         0              0   69   57000.0   \n",
      "4       1       1     1         0              0   20   30000.0   \n",
      "\n",
      "   member_date_int  F  M  offer_impact  \n",
      "0             1380  1  0     -0.227529  \n",
      "1             1467  0  0     -0.006643  \n",
      "2             1656  0  1     -0.051747  \n",
      "3             1112  1  0     -0.310305  \n",
      "4             1078  1  0      0.285219  \n"
     ]
    }
   ],
   "source": [
    "print(offers_recieved.describe())\n",
    "print(offers_recieved.head())"
   ]
  },
  {
   "cell_type": "code",
   "execution_count": 91,
   "metadata": {},
   "outputs": [],
   "source": [
    "offers_recieved = offers_recieved.drop(['Unnamed: 0','offer_type'],axis=1)"
   ]
  },
  {
   "cell_type": "code",
   "execution_count": 99,
   "metadata": {},
   "outputs": [],
   "source": [
    "X, y = offers_recieved.iloc[:,:-1],offers_recieved.iloc[:,-1]\n",
    "data_dmatrix = xgb.DMatrix(data=X,label=y)\n",
    "\n",
    "from sklearn.model_selection import train_test_split\n",
    "\n",
    "X_train, X_test, y_train, y_test = train_test_split(X, y, test_size=0.2)\n",
    "\n",
    "\n",
    "\n",
    "rmse = []\n",
    "for i in range(1,10):\n",
    "    for j in range(100,400,50):\n",
    "        xg_reg = xgb.XGBRegressor(objective ='reg:squarederror', colsample_bytree = 0.3, learning_rate = 0.1,\n",
    "                    max_depth = i, alpha = 7, n_estimators = j)\n",
    "        xg_reg.fit(X_train,y_train)\n",
    "        test_preds = xg_reg.predict(X_test)\n",
    "        train_preds = xg_reg.predict(X_train)\n",
    "        test_rmse = np.sqrt(mean_squared_error(y_test, test_preds))\n",
    "        train_rmse = np.sqrt(mean_squared_error(y_train, train_preds))\n",
    "        rmse.append([i,j,train_rmse,test_rmse])\n",
    "    \n",
    "rmse = pd.DataFrame(rmse)\n",
    "rmse.to_csv('rmse.csv')\n",
    "    \n",
    "\n",
    "    "
   ]
  },
  {
   "cell_type": "code",
   "execution_count": 100,
   "metadata": {},
   "outputs": [
    {
     "name": "stdout",
     "output_type": "stream",
     "text": [
      "RMSE: 0.014040\n"
     ]
    }
   ],
   "source": [
    "#proof of concept\n",
    "xg_reg = xgb.XGBRegressor(objective ='reg:squarederror', colsample_bytree = 0.3, learning_rate = 0.1,\n",
    "                max_depth = 3, alpha = 6, n_estimators = 350)\n",
    "\n",
    "xg_reg.fit(X_train,y_train)\n",
    "\n",
    "preds = xg_reg.predict(X_test)\n",
    "\n",
    "rmse = np.sqrt(mean_squared_error(y_test, preds))\n",
    "print(\"RMSE: %f\" % (rmse))\n",
    "\n",
    "preds = xg_reg.predict(X)\n",
    "\n",
    "visual = offers_recieved\n",
    "visual['preds'] = preds\n",
    "visual.to_csv('visual.csv')"
   ]
  }
 ],
 "metadata": {
  "kernelspec": {
   "display_name": "Python 3",
   "language": "python",
   "name": "python3"
  },
  "language_info": {
   "codemirror_mode": {
    "name": "ipython",
    "version": 3
   },
   "file_extension": ".py",
   "mimetype": "text/x-python",
   "name": "python",
   "nbconvert_exporter": "python",
   "pygments_lexer": "ipython3",
   "version": "3.7.1"
  }
 },
 "nbformat": 4,
 "nbformat_minor": 2
}
